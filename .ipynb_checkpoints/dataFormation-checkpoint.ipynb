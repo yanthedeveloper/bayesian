{
 "cells": [
  {
   "cell_type": "markdown",
   "metadata": {},
   "source": [
    "Collecting data for my bayesian network project has been a very challenging task. I first attempted to obtain medical records by calling and visiting several medical institutions in the metro-Atlanta area, but I soon found out the the release of (anonymous) medical records to the general public is illegal, and telling people that you're a student at the Georiga Institute of Technology will only get you so much. \n",
    "\n",
    "So, because I refuse to put this project to bed because of insufficient resources, I have chosen to generate my own data in order to represent patients with psychiatric disorders. The data that I am generating will be random and in no way will it be an accurate representation of the real-world population, however the purpose of this project is to build a BBN (Beautiful Bayesian Network) that is capable of handling real-world data when it is blessed enough to recieve some. \n",
    "\n",
    "I have 4 main psychiatric diseases that I am focusing on -Bipolar Disorder (Manic Depresseive Psychosis), Depressive Disorder, Mixed Dementia, Schizophrenia. Through my research I have identified a number of causes and effects that have to do with these diseases. \n",
    "\n",
    "The data that I will be generating will be simple - true or false (1 or 0) values that will represent gender and if the patient is experiencing the listed cause/effect, and numerical values that will represent how many of something a patient has i.e. number of parents with the disease. \n",
    "\n",
    "After generating this data, go through it and calculate all of the probabilities for the various diseases, causes, effects, and use these statistics in order to train my bayesian network model. "
   ]
  },
  {
   "cell_type": "code",
   "execution_count": null,
   "metadata": {},
   "outputs": [],
   "source": []
  }
 ],
 "metadata": {
  "kernelspec": {
   "display_name": "Python 3",
   "language": "python",
   "name": "python3"
  },
  "language_info": {
   "codemirror_mode": {
    "name": "ipython",
    "version": 3
   },
   "file_extension": ".py",
   "mimetype": "text/x-python",
   "name": "python",
   "nbconvert_exporter": "python",
   "pygments_lexer": "ipython3",
   "version": "3.7.4"
  }
 },
 "nbformat": 4,
 "nbformat_minor": 2
}
